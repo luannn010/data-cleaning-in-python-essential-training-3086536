{
 "cells": [
  {
   "cell_type": "code",
   "execution_count": null,
   "metadata": {},
   "outputs": [],
   "source": [
    "import pandas as pd\n",
    "\n",
    "df = pd.read_csv('ships.csv')\n",
    "df"
   ]
  },
  {
   "cell_type": "code",
   "execution_count": null,
   "metadata": {},
   "outputs": [],
   "source": [
    "import pandera as pa\n",
    "import numpy as np\n",
    "\n",
    "schema = pa.DataFrameSchema({\n",
    "    'name': pa.Column(pa.String),\n",
    "    'lat': pa.Column(\n",
    "        pa.Float,\n",
    "        nullable=True,\n",
    "        checks=pa.Check(\n",
    "            lambda v: v >= -90 and v <= 90,\n",
    "            element_wise=True,\n",
    "        ),\n",
    "    ),\n",
    "    'lng': pa.Column(\n",
    "        pa.Float,\n",
    "        nullable=True,\n",
    "        checks=pa.Check(\n",
    "            lambda v: v >= -180 and v <= 180,\n",
    "            element_wise=True,\n",
    "        ),\n",
    "    ),\n",
    "})\n",
    "\n",
    "schema.validate(df)"
   ]
  }
 ],
 "nbformat": 4,
 "nbformat_minor": 2,
 "metadata": {
  "language_info": {
   "codemirror_mode": {
    "name": "ipython",
    "version": 3
   },
   "file_extension": ".py",
   "mimetype": "text/x-python",
   "name": "python",
   "nbconvert_exporter": "python",
   "pygments_lexer": "ipython3",
   "version": 3
  },
  "orig_nbformat": 4
 }
}